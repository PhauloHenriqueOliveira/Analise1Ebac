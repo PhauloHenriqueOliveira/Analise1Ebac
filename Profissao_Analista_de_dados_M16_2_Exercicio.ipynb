{
  "nbformat": 4,
  "nbformat_minor": 0,
  "metadata": {
    "colab": {
      "provenance": []
    },
    "kernelspec": {
      "name": "python3",
      "display_name": "Python 3"
    }
  },
  "cells": [
    {
      "cell_type": "markdown",
      "metadata": {
        "id": "KJqp9AANOCtf"
      },
      "source": [
        "<img src=\"https://raw.githubusercontent.com/andre-marcos-perez/ebac-course-utils/main/media/logo/newebac_logo_black_half.png\" alt=\"ebac-logo\">\n",
        "\n",
        "---\n",
        "\n",
        "# **Módulo** | Análise de Dados: Análise Exploratória de Dados de Logística II\n",
        "Caderno de **Exercícios**<br>\n",
        "Professor [André Perez](https://www.linkedin.com/in/andremarcosperez/)\n",
        "\n",
        "---"
      ]
    },
    {
      "cell_type": "markdown",
      "metadata": {
        "id": "d9jDtUbDOE1-"
      },
      "source": [
        "# **Tópicos**\n",
        "\n",
        "<ol type=\"1\">\n",
        "  <li>Manipulação;</li>\n",
        "  <li>Visualização;</li>\n",
        "  <li>Storytelling.</li>\n",
        "</ol>\n"
      ]
    },
    {
      "cell_type": "markdown",
      "metadata": {
        "id": "SmoHgt-lwkpD"
      },
      "source": [
        "---"
      ]
    },
    {
      "cell_type": "markdown",
      "metadata": {
        "id": "GABI6OW8OfQ2"
      },
      "source": [
        "# **Exercícios**"
      ]
    },
    {
      "cell_type": "markdown",
      "metadata": {
        "id": "muD1vxozykSC"
      },
      "source": [
        "Este *notebook* deve servir como um guia para **você continuar** a construção da sua própria análise exploratória de dados. Fique a vontate para copiar os códigos da aula mas busque explorar os dados ao máximo. Por fim, publique seu *notebook* no [Kaggle](https://www.kaggle.com/)."
      ]
    },
    {
      "cell_type": "markdown",
      "metadata": {
        "id": "zMN1Q3jdwoJm"
      },
      "source": [
        "---"
      ]
    },
    {
      "cell_type": "markdown",
      "metadata": {
        "id": "QRcqbpLpFK5o"
      },
      "source": [
        "# **Análise Exploratória de Dados de Logística**"
      ]
    },
    {
      "cell_type": "markdown",
      "metadata": {
        "id": "6-CvdKwqFPiW"
      },
      "source": [
        "## 1\\. Contexto"
      ]
    },
    {
      "cell_type": "markdown",
      "metadata": {
        "id": "XRURE1uUFXGw"
      },
      "source": [
        "Escreva uma breve descrição do problema."
      ]
    },
    {
      "cell_type": "markdown",
      "metadata": {
        "id": "QxukLHaqFnkU"
      },
      "source": [
        "## 2\\. Pacotes e bibliotecas"
      ]
    },
    {
      "cell_type": "code",
      "metadata": {
        "id": "VXUEW0VrF7XW"
      },
      "source": [
        "!pip3 install geopandas\n",
        "!pip install tabula-py PyPDF2\n",
        "!pip install contextily\n",
        "\n",
        "import json\n",
        "\n",
        "import tabula\n",
        "import PyPDF2\n",
        "from PyPDF2 import PdfReader\n",
        "import pandas as pd\n",
        "import geopy\n",
        "from geopy.geocoders import Nominatim\n",
        "from geopy.extra.rate_limiter import RateLimiter\n",
        "from shapely.geometry import Point\n",
        "from shapely.geometry import Polygon\n",
        "import numpy as np\n",
        "import geopandas as gpd\n",
        "import contextily as ctx\n",
        "import matplotlib.pyplot as plt\n",
        "import seaborn as sns"
      ],
      "execution_count": null,
      "outputs": []
    },
    {
      "cell_type": "markdown",
      "metadata": {
        "id": "irQxHW1zGkdZ"
      },
      "source": [
        "## 3\\. Exploração de dados"
      ]
    },
    {
      "cell_type": "code",
      "metadata": {
        "id": "lxLj8e0GHAnr"
      },
      "source": [
        "!wget -q \"https://raw.githubusercontent.com/andre-marcos-perez/ebac-course-utils/main/dataset/deliveries.json\" -O deliveries.json\n",
        "\n",
        "\n",
        "with open('deliveries.json', mode='r', encoding='utf8') as file:\n",
        "  data = json.load(file)\n"
      ],
      "execution_count": null,
      "outputs": []
    },
    {
      "cell_type": "code",
      "source": [
        "deliveries_df = pd.DataFrame(data)\n",
        "\n",
        "deliveries_df.head()\n",
        "\n",
        "\n",
        "hub_origin_df = pd.json_normalize(deliveries_df[\"origin\"])\n",
        "hub_origin_df"
      ],
      "metadata": {
        "id": "E7fxdwbNvhD4"
      },
      "execution_count": null,
      "outputs": []
    },
    {
      "cell_type": "code",
      "source": [
        "deliveries_df = pd.merge(left=deliveries_df, right=hub_origin_df, how='inner', left_index=True, right_index=True)\n",
        "\n",
        "\n",
        "deliveries_df = deliveries_df.drop(\"origin\", axis=1)\n",
        "\n",
        "\n",
        "deliveries_df = deliveries_df[[\"name\", \"region\", \"lng\", \"lat\", \"vehicle_capacity\", \"deliveries\"]]\n",
        "deliveries_df.rename(columns={\"lng\": \"hub_lng\", \"lat\": \"hub_lat\"}, inplace=True)\n",
        "deliveries_df"
      ],
      "metadata": {
        "id": "MPoQFMxRvpEb"
      },
      "execution_count": null,
      "outputs": []
    },
    {
      "cell_type": "code",
      "source": [
        "deliveries_exploded_df = deliveries_df[[\"deliveries\"]].explode(\"deliveries\")\n",
        "deliveries_exploded_df"
      ],
      "metadata": {
        "id": "xP61vUPOvyVW"
      },
      "execution_count": null,
      "outputs": []
    },
    {
      "cell_type": "code",
      "source": [
        "deliveries_normalized_df = pd.concat([\n",
        "  pd.DataFrame(deliveries_exploded_df[\"deliveries\"].apply(lambda record: record[\"size\"])).rename(columns={\"deliveries\": \"delivery_size\"}),\n",
        "  pd.DataFrame(deliveries_exploded_df[\"deliveries\"].apply(lambda record: record[\"id\"])).rename(columns={\"deliveries\":\"delivery_id\"}),\n",
        "  pd.DataFrame(deliveries_exploded_df[\"deliveries\"].apply(lambda record: record[\"point\"][\"lng\"])).rename(columns={\"deliveries\": \"delivery_lng\"}),\n",
        "  pd.DataFrame(deliveries_exploded_df[\"deliveries\"].apply(lambda record: record[\"point\"][\"lat\"])).rename(columns={\"deliveries\": \"delivery_lat\"}),\n",
        "], axis= 1)\n",
        "\n",
        "deliveries_normalized_df"
      ],
      "metadata": {
        "id": "lZz2t2gKv907"
      },
      "execution_count": null,
      "outputs": []
    },
    {
      "cell_type": "code",
      "source": [
        "deliveries_df = deliveries_df.drop(\"deliveries\", axis=1)\n",
        "\n",
        "\n",
        "deliveries_df = pd.merge(left=deliveries_df, right=deliveries_normalized_df, how='right', left_index=True, right_index=True)\n",
        "deliveries_df.reset_index(inplace=True, drop=True)\n",
        "\n",
        "deliveries_df"
      ],
      "metadata": {
        "id": "7W59t_sMwPFx"
      },
      "execution_count": null,
      "outputs": []
    },
    {
      "cell_type": "code",
      "source": [
        "deliveries_df.shape"
      ],
      "metadata": {
        "id": "vOgTCXuhwTPr",
        "colab": {
          "base_uri": "https://localhost:8080/"
        },
        "outputId": "c2cc4b2b-6f3e-4a8b-c9cc-9d19f0d516df"
      },
      "execution_count": null,
      "outputs": [
        {
          "output_type": "execute_result",
          "data": {
            "text/plain": [
              "(636149, 9)"
            ]
          },
          "metadata": {},
          "execution_count": 8
        }
      ]
    },
    {
      "cell_type": "code",
      "source": [
        "deliveries_df.info()"
      ],
      "metadata": {
        "id": "Md1LfmKbxElO"
      },
      "execution_count": null,
      "outputs": []
    },
    {
      "cell_type": "code",
      "source": [
        "deliveries_df.isna().sum()"
      ],
      "metadata": {
        "id": "LJqC6CJyxE2-"
      },
      "execution_count": null,
      "outputs": []
    },
    {
      "cell_type": "code",
      "source": [
        "deliveries_df.nunique()"
      ],
      "metadata": {
        "id": "w7BDRtXSxFEO"
      },
      "execution_count": null,
      "outputs": []
    },
    {
      "cell_type": "code",
      "source": [
        "len(deliveries_df)"
      ],
      "metadata": {
        "id": "BTp8xJuvxFR2"
      },
      "execution_count": null,
      "outputs": []
    },
    {
      "cell_type": "code",
      "source": [
        "deliveries_df.head(n=5)"
      ],
      "metadata": {
        "id": "KmBIA6ydx1jQ"
      },
      "execution_count": null,
      "outputs": []
    },
    {
      "cell_type": "code",
      "source": [
        "deliveries_df.dtypes"
      ],
      "metadata": {
        "id": "uvmkN5Dpx1Yp"
      },
      "execution_count": null,
      "outputs": []
    },
    {
      "cell_type": "code",
      "source": [
        "deliveries_df.select_dtypes(\"object\").describe().transpose()"
      ],
      "metadata": {
        "id": "G9deD2POx1RZ"
      },
      "execution_count": null,
      "outputs": []
    },
    {
      "cell_type": "code",
      "source": [
        "deliveries_df.drop( [\"name\", \"region\"], axis=1 ).select_dtypes('int64').describe().transpose()"
      ],
      "metadata": {
        "id": "BZr_OoW7x1Nx"
      },
      "execution_count": null,
      "outputs": []
    },
    {
      "cell_type": "code",
      "source": [
        "deliveries_df.isna().any()"
      ],
      "metadata": {
        "id": "Ltm0Z2jAx1IZ"
      },
      "execution_count": null,
      "outputs": []
    },
    {
      "cell_type": "code",
      "source": [
        "deliveries_df.head()"
      ],
      "metadata": {
        "id": "wcGx1ihN7MXv"
      },
      "execution_count": null,
      "outputs": []
    },
    {
      "cell_type": "code",
      "source": [
        "deliveries_por_regiao = deliveries_df.groupby('region').agg({'delivery_size': 'mean'})\n",
        "print(deliveries_por_regiao)\n"
      ],
      "metadata": {
        "id": "4gClipL_3Dd1"
      },
      "execution_count": null,
      "outputs": []
    },
    {
      "cell_type": "markdown",
      "source": [
        "Aqui podemos observar que o volume das entregas é diferente de uma região da outra, principalmente em df-1 que se mostra ser bastante volumosa, podendo assumir que talvez seja necessario aumentar a frota futuramente"
      ],
      "metadata": {
        "id": "vEhtrcS93F49"
      }
    },
    {
      "cell_type": "markdown",
      "metadata": {
        "id": "98hexQTyJS9I"
      },
      "source": [
        "## 4\\. Manipulação"
      ]
    },
    {
      "cell_type": "code",
      "source": [
        "mapeamento_regiao = {\n",
        "    'df-0': 'Região Norte/Leste',\n",
        "    'df-1': 'Região Centro',\n",
        "    'df-2': 'Região Sul/Oeste'\n",
        "}\n",
        "\n",
        "\n",
        "deliveries_df['region_descritiva'] = deliveries_df['region'].map(mapeamento_regiao)"
      ],
      "metadata": {
        "id": "5KwvJYan4SLo"
      },
      "execution_count": null,
      "outputs": []
    },
    {
      "cell_type": "markdown",
      "source": [
        "adicionando essa coluna fica mais facil de entender quais os padrões de entregas de cada hub, mais para frente terá um mapa para melhor visualização"
      ],
      "metadata": {
        "id": "uEfyzJUkySTk"
      }
    },
    {
      "cell_type": "markdown",
      "source": [
        "## 5\\. Visualização"
      ],
      "metadata": {
        "id": "7tneCFLkWytr"
      }
    },
    {
      "cell_type": "code",
      "source": [
        "delivery_size_stats = deliveries_df.groupby('vehicle_capacity')['delivery_size'].agg(['mean', 'median', 'std'])\n",
        "\n",
        "print(\"Estatísticas de tamanho de entrega para cada capacidade de veículo:\")\n",
        "print(delivery_size_stats)\n",
        "\n",
        "plt.figure(figsize=(10, 6))\n",
        "sns.histplot(data=deliveries_df, x='delivery_size', kde=True, bins=20)\n",
        "plt.title('Distribuição do Tamanho das Entregas')\n",
        "plt.xlabel('Tamanho da Entrega')\n",
        "plt.ylabel('Frequência')\n",
        "plt.grid(axis='y', linestyle='--', alpha=0.7)\n",
        "plt.show()"
      ],
      "metadata": {
        "id": "XEn6HvusLIGm"
      },
      "execution_count": null,
      "outputs": []
    },
    {
      "cell_type": "markdown",
      "source": [
        "nesse grafico podemos notar que a frequencia das entregas sempre atingem altos valores em relação ao tamanho de entregas"
      ],
      "metadata": {
        "id": "JCofDF_1LLsP"
      }
    },
    {
      "cell_type": "code",
      "source": [
        "gdf_entregas = gpd.GeoDataFrame(deliveries_df, geometry=gpd.points_from_xy(deliveries_df.delivery_lng, deliveries_df.delivery_lat))\n",
        "\n",
        "\n",
        "gdf_entregas.crs = \"EPSG:4326\"\n",
        "\n",
        "\n",
        "gdf_hubs = gpd.GeoDataFrame(deliveries_df, geometry=gpd.points_from_xy(deliveries_df.hub_lng, deliveries_df.hub_lat))\n",
        "\n",
        "\n",
        "cores_por_regiao = {'df-0': 'red', 'df-1': 'green', 'df-2': 'blue'}\n",
        "\n",
        "\n",
        "fig, ax = plt.subplots(figsize=(10, 10))\n",
        "\n",
        "\n",
        "for regiao, cor in cores_por_regiao.items():\n",
        "    gdf_entregas[gdf_entregas['region'] == regiao].plot(ax=ax, color=cor, markersize=5, label=regiao)\n",
        "\n",
        "\n",
        "gdf_hubs.plot(ax=ax, color='black', markersize=50, marker='^', label='Hubs')\n",
        "\n",
        "\n",
        "ctx.add_basemap(ax, crs=gdf_entregas.crs, source=ctx.providers.OpenStreetMap.Mapnik)\n",
        "\n",
        "\n",
        "ax.set_title('Mapa de Entregas e Hubs por Região')\n",
        "ax.set_xlabel('Longitude')\n",
        "ax.set_ylabel('Latitude')\n",
        "\n",
        "\n",
        "plt.legend()\n",
        "\n",
        "\n",
        "plt.show()"
      ],
      "metadata": {
        "id": "_hAQBHcqvgpL"
      },
      "execution_count": null,
      "outputs": []
    },
    {
      "cell_type": "markdown",
      "source": [
        "para uma melhor visualização, nesse mapa podemos ver que as regiões onde estão cituados os hubs, df-0 e df-2 são entregas bastante espalhadas de longas distancias,df-0 sendo mais situada nas regiões norte e leste, e df-2 sendo mais para sul e oeste, dando a entender que haja uma necessidade na alta quantidade de veiculos por eles terem longas jornadas e idas e voltas, ja em df-1 é ao contrario, as entregas são mais centralizadas com viagens mais curtas mas em compensação são feitas mais entregas em menos periodos de tempo, dando a entender que a demanda dessa região é mais veiculos para entregas mais curtas em menos tempo"
      ],
      "metadata": {
        "id": "Hfyq7g4rvirc"
      }
    }
  ]
}